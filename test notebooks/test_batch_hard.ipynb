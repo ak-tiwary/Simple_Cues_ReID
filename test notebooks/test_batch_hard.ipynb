{
 "cells": [
  {
   "cell_type": "code",
   "execution_count": 2,
   "metadata": {},
   "outputs": [],
   "source": [
    "import numpy as np\n",
    "import matplotlib.pyplot as plt\n",
    "\n",
    "import torch\n",
    "import torchvision\n",
    "import torch.nn as nn\n",
    "import torch.nn.functional as F\n",
    "import torchvision.transforms as T\n",
    "\n",
    "import os\n",
    "import random\n",
    "from PIL import Image\n",
    "\n",
    "random.seed(0) #for reproducibility"
   ]
  },
  {
   "cell_type": "markdown",
   "metadata": {},
   "source": [
    "We want to implement the `Batch Hard` training strategy from the \"In Defense of the Triplet Loss\" paper (2017). Given the features from the backbone of shape `NxD`, where `N` is the number of examples in the batch and `D` is the embedding dimension, we wish to compute valid triples `(A,P,N)` where A is an anchor, `(A,P)` is a positive sample with the sample class and `(A,N)` is a negative sample with different classes. The batch hard strategy requires that we filter only those triples for which `d(A,P)` is as small as possible and `d(A,N)` is as large as possible for a given anchor `A`."
   ]
  },
  {
   "cell_type": "code",
   "execution_count": 16,
   "metadata": {},
   "outputs": [],
   "source": [
    "def compute_distance_matrix(features, distance_fn=\"L2\", eps=1e-12):\n",
    "    \"\"\"Assumes features is an NxD matrix. Computes NxN pairwise distance matrix between the rows and returns it.\n",
    "    Currently assumes that the distance function is the L2 distance function as the method below only works\n",
    "    for this function. Alternative functions might require longer computation since easy vectorization may\n",
    "    not be possible.\"\"\"\n",
    "    \n",
    "    #To compute the distance matrix we use |a-b|^2 = |a|^2 - 2 a.b + |b|^2\n",
    "    X = features @ features.T #X has shape NxN and X[i,j] = f_i . f_j\n",
    "    sq_norm_features = torch.diagonal(X) #length N, f_i . f_i\n",
    "    squared_dist = sq_norm_features.unsqueeze(1) - 2 * X + sq_norm_features.unsqueeze(0)\n",
    "    \n",
    "    #we need to ensure positivity before taking square root due to floating point errors\n",
    "    squared_dist = F.relu(squared_dist)\n",
    "    \n",
    "    #for numerical stability we add epsilon whereever squared_dist is 0 before taking sqrt\n",
    "    #this helps during backprop because the derivative of sqrt(x) is 1/2sqrt(x). \n",
    "    #See https://www.robots.ox.ac.uk/~albanie/notes/Euclidean_distance_trick.pdf\n",
    "    \n",
    "    zero_mask = squared_dist == 0.\n",
    "    \n",
    "    \n",
    "    squared_dist += zero_mask.to(torch.float) * eps #whereever it is zero, add epsilon\n",
    "    \n",
    "    distance_matrix = torch.sqrt(squared_dist)\n",
    "    distance_matrix[zero_mask] = 0.\n",
    "    \n",
    "    return distance_matrix\n",
    "    \n"
   ]
  },
  {
   "cell_type": "code",
   "execution_count": 18,
   "metadata": {},
   "outputs": [
    {
     "data": {
      "text/plain": [
       "tensor([[0.0000, 2.8284, 4.4721],\n",
       "        [2.8284, 0.0000, 4.4721],\n",
       "        [4.4721, 4.4721, 0.0000]])"
      ]
     },
     "execution_count": 18,
     "metadata": {},
     "output_type": "execute_result"
    }
   ],
   "source": [
    "a = torch.tensor([[3,2], [1,4], [5,6]], dtype=torch.float)\n",
    "\n",
    "compute_distance_matrix(a)"
   ]
  },
  {
   "cell_type": "code",
   "execution_count": 21,
   "metadata": {},
   "outputs": [
    {
     "data": {
      "text/plain": [
       "(2.8284271247461903, 4.47213595499958)"
      ]
     },
     "execution_count": 21,
     "metadata": {},
     "output_type": "execute_result"
    }
   ],
   "source": [
    "np.sqrt((3-1)**2 + (2-4)**2), np.sqrt((3-5)**2 + (2-6)**2)"
   ]
  },
  {
   "cell_type": "markdown",
   "metadata": {},
   "source": [
    "Now, given a distance matrix, and true labels, we want to generate a `Mx3` tensor of valid triples `(i,j,k)` corresponding to the batch hard strategy."
   ]
  },
  {
   "cell_type": "code",
   "execution_count": 38,
   "metadata": {},
   "outputs": [],
   "source": [
    "def get_triple_indices(distance_matrix, labels):\n",
    "    \"\"\"Given an NxN distance matrix between and a N label array returns a tensor of length Mx3 with i,j,k being valid triples\n",
    "    such that for any i, (i,j) is the furthest apart positive example and (i,k) is the closest negative example.\n",
    "    \n",
    "    The sampling strategy ensures that every batch has at least K elements in one class and at least P diff. classes.\"\"\"\n",
    "    #dist_matrix = distance_matrix.copy() #don't want changes affected\n",
    "    N = distance_matrix.shape[0]\n",
    "    \n",
    "    \n",
    "    #we want a mask such that mask[i,j] = True when\n",
    "    #i and j are the same class\n",
    "    \n",
    "    same_class_mask = labels.unsqueeze(0) == labels.unsqueeze(1)\n",
    "    diff_class_mask = ~same_class_mask\n",
    "    \n",
    "    #since we want to pick the farthest index in the same class\n",
    "    #we use a mask to set the distance of all the (i,j) with diff\n",
    "    #classes to -1. That way such indices will not affect the\n",
    "    #maximum selection.\n",
    "    \n",
    "    #is 1+d[i,j] whenever i,j are diff class. else 0\n",
    "    temp_matrix = diff_class_mask * (1 + distance_matrix)\n",
    "    \n",
    "    #d[i,j] when i,j same class, otherwise -1\n",
    "    modified_dist_matrix = distance_matrix - temp_matrix\n",
    "    \n",
    "    _, farthest = torch.max(modified_dist_matrix, dim=1) #shape is Nx1 and furthest[i] = j if fj is furthest from fi\n",
    "    \n",
    "    \n",
    "    \n",
    "    M = torch.max(distance_matrix) + 1\n",
    "    \n",
    "    #to get the closest distance in a different class\n",
    "    #we set d[i,j] = M if i,j in the same class\n",
    "    \n",
    "    #is M-d[i,j] if i,j  same class else 0\n",
    "    temp_matrix = same_class_mask * (M - distance_matrix)\n",
    "    \n",
    "    #M is i,j same class else d[i,j]\n",
    "    modified_dist_matrix = distance_matrix + temp_matrix\n",
    "    \n",
    "    _, closest = torch.min(modified_dist_matrix, dim=1) \n",
    "    \n",
    "    \n",
    "    \n",
    "    return torch.stack([torch.arange(N), farthest, closest], dim=1)\n",
    "    \n",
    "\n",
    "    "
   ]
  },
  {
   "cell_type": "code",
   "execution_count": 112,
   "metadata": {},
   "outputs": [],
   "source": [
    "import random\n",
    "random.seed(42)\n",
    "torch.manual_seed(42)\n",
    "\n",
    "def test_triplet_generator():\n",
    "    dist_matrix = torch.rand((5,5)) * 5\n",
    "    dist_matrix -= torch.eye(5) * dist_matrix\n",
    "\n",
    "    labels = torch.tensor(random.choices(range(5), k=5))\n",
    "    print(f\"the matrix is \\ndist_matrix = \\n {dist_matrix},\\n labels = \\n{labels.view((-1,1))} \\n\\n\\n\\n\\n\" + \"*\"*50)\n",
    "    \n",
    "    print(get_triple_indices(dist_matrix, labels))\n",
    "    \n",
    "    return dist_matrix\n",
    "       "
   ]
  },
  {
   "cell_type": "code",
   "execution_count": 113,
   "metadata": {},
   "outputs": [
    {
     "name": "stdout",
     "output_type": "stream",
     "text": [
      "the matrix is \n",
      "dist_matrix = \n",
      " tensor([[0.0000, 4.5750, 1.9143, 4.7965, 1.9522],\n",
      "        [3.0045, 0.0000, 3.9682, 4.7039, 0.6659],\n",
      "        [4.6730, 2.9679, 0.0000, 2.8386, 3.7055],\n",
      "        [2.1470, 4.4272, 2.8695, 0.0000, 3.1372],\n",
      "        [1.3482, 2.2068, 1.4846, 4.1584, 0.0000]]),\n",
      " labels = \n",
      "tensor([[3],\n",
      "        [0],\n",
      "        [1],\n",
      "        [1],\n",
      "        [3]]) \n",
      "\n",
      "\n",
      "\n",
      "\n",
      "**************************************************\n",
      "tensor([[0, 4, 2],\n",
      "        [1, 1, 4],\n",
      "        [2, 3, 1],\n",
      "        [3, 2, 0],\n",
      "        [4, 0, 2]])\n"
     ]
    }
   ],
   "source": [
    "dist_matrix = test_triplet_generator()\n"
   ]
  },
  {
   "cell_type": "code",
   "execution_count": 114,
   "metadata": {},
   "outputs": [
    {
     "name": "stdout",
     "output_type": "stream",
     "text": [
      "tensor([[0.2695, 0.3588, 0.1994],\n",
      "        [0.5472, 0.0062, 0.9516],\n",
      "        [0.0753, 0.8860, 0.5832]])\n"
     ]
    },
    {
     "data": {
      "text/plain": [
       "tensor([[0.2695, 0.3588, 0.1994],\n",
       "        [0.5472, 0.0062, 0.9516],\n",
       "        [0.5472, 0.0062, 0.9516],\n",
       "        [0.0753, 0.8860, 0.5832]])"
      ]
     },
     "execution_count": 114,
     "metadata": {},
     "output_type": "execute_result"
    }
   ],
   "source": [
    "a = torch.rand((3,3))\n",
    "print(a)\n",
    "\n",
    "a[torch.tensor([0,1,1,2])]"
   ]
  },
  {
   "cell_type": "code",
   "execution_count": 115,
   "metadata": {},
   "outputs": [],
   "source": [
    "def get_valid_triples(features, labels):\n",
    "    \"\"\"Given an Nxd matrix of N features and corresponding N labels, returns f1, f2, f3, each of shape Nxd, giving\n",
    "    anchors, positives, and negatives.\"\"\"\n",
    "    \n",
    "    dist_matrix = compute_distance_matrix(features)\n",
    "    \n",
    "    indices = get_triple_indices(dist_matrix, labels)\n",
    "    ind1, ind2, ind3 = indices.T\n",
    "    \n",
    "    return features[ind1], features[ind2], features[ind3]\n",
    "    "
   ]
  }
 ],
 "metadata": {
  "kernelspec": {
   "display_name": "Python 3.10.5 ('vision')",
   "language": "python",
   "name": "python3"
  },
  "language_info": {
   "codemirror_mode": {
    "name": "ipython",
    "version": 3
   },
   "file_extension": ".py",
   "mimetype": "text/x-python",
   "name": "python",
   "nbconvert_exporter": "python",
   "pygments_lexer": "ipython3",
   "version": "3.10.5"
  },
  "orig_nbformat": 4,
  "vscode": {
   "interpreter": {
    "hash": "2e493a1a15d7e27fb4e49f83da841848447539036e41bf31e3db46ef82884d8e"
   }
  }
 },
 "nbformat": 4,
 "nbformat_minor": 2
}

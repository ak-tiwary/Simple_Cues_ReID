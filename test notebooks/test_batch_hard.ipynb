{
 "cells": [
  {
   "cell_type": "code",
   "execution_count": 2,
   "metadata": {},
   "outputs": [],
   "source": [
    "import numpy as np\n",
    "import matplotlib.pyplot as plt\n",
    "\n",
    "import torch\n",
    "import torchvision\n",
    "import torch.nn as nn\n",
    "import torch.nn.functional as F\n",
    "import torchvision.transforms as T\n",
    "\n",
    "import os\n",
    "import random\n",
    "from PIL import Image"
   ]
  },
  {
   "cell_type": "markdown",
   "metadata": {},
   "source": [
    "We want to implement the `Batch Hard` training strategy from the \"In Defense of the Triplet Loss\" paper (2017). Given the features from the backbone of shape `NxD`, where `N` is the number of examples in the batch and `D` is the embedding dimension, we wish to compute valid triples `(A,P,N)` where A is an anchor, `(A,P)` is a positive sample with the sample class and `(A,N)` is a negative sample with different classes. The batch hard strategy requires that we filter only those triples for which `d(A,P)` is as small as possible and `d(A,N)` is as large as possible for a given anchor `A`."
   ]
  },
  {
   "cell_type": "code",
   "execution_count": 16,
   "metadata": {},
   "outputs": [],
   "source": [
    "def compute_distance_matrix(features, distance_fn=\"L2\", eps=1e-12):\n",
    "    \"\"\"Assumes features is an NxD matrix. Computes NxN pairwise distance matrix between the rows and returns it.\n",
    "    Currently assumes that the distance function is the L2 distance function as the method below only works\n",
    "    for this function. Alternative functions might require longer computation since easy vectorization may\n",
    "    not be possible.\"\"\"\n",
    "    \n",
    "    #To compute the distance matrix we use |a-b|^2 = |a|^2 - 2 a.b + |b|^2\n",
    "    X = features @ features.T #X has shape NxN and X[i,j] = f_i . f_j\n",
    "    sq_norm_features = torch.diagonal(X) #length N, f_i . f_i\n",
    "    squared_dist = sq_norm_features.unsqueeze(1) - 2 * X + sq_norm_features.unsqueeze(0)\n",
    "    \n",
    "    #we need to ensure positivity before taking square root due to floating point errors\n",
    "    squared_dist = F.relu(squared_dist)\n",
    "    \n",
    "    #for numerical stability we add epsilon whereever squared_dist is 0 before taking sqrt\n",
    "    #this helps during backprop because the derivative of sqrt(x) is 1/2sqrt(x). \n",
    "    #See https://www.robots.ox.ac.uk/~albanie/notes/Euclidean_distance_trick.pdf\n",
    "    \n",
    "    zero_mask = squared_dist == 0.\n",
    "    \n",
    "    \n",
    "    squared_dist += zero_mask.to(torch.float) * eps #whereever it is zero, add epsilon\n",
    "    \n",
    "    distance_matrix = torch.sqrt(squared_dist)\n",
    "    distance_matrix[zero_mask] = 0.\n",
    "    \n",
    "    return distance_matrix\n",
    "    \n"
   ]
  },
  {
   "cell_type": "code",
   "execution_count": 17,
   "metadata": {},
   "outputs": [
    {
     "data": {
      "text/plain": [
       "tensor([[0.4000, 0.4000, 0.4000, 0.4000],\n",
       "        [0.4000, 0.4000, 0.4000, 0.4000],\n",
       "        [0.4000, 0.4000, 0.4000, 0.4000],\n",
       "        [0.4000, 0.4000, 0.4000, 0.4000]])"
      ]
     },
     "execution_count": 17,
     "metadata": {},
     "output_type": "execute_result"
    }
   ],
   "source": [
    "(torch.sqrt(torch.zeros((4,4))) == 0) *.4"
   ]
  },
  {
   "cell_type": "code",
   "execution_count": 18,
   "metadata": {},
   "outputs": [
    {
     "data": {
      "text/plain": [
       "tensor([[0.0000, 2.8284, 4.4721],\n",
       "        [2.8284, 0.0000, 4.4721],\n",
       "        [4.4721, 4.4721, 0.0000]])"
      ]
     },
     "execution_count": 18,
     "metadata": {},
     "output_type": "execute_result"
    }
   ],
   "source": [
    "a = torch.tensor([[3,2], [1,4], [5,6]], dtype=torch.float)\n",
    "\n",
    "compute_distance_matrix(a)"
   ]
  },
  {
   "cell_type": "code",
   "execution_count": 21,
   "metadata": {},
   "outputs": [
    {
     "data": {
      "text/plain": [
       "(2.8284271247461903, 4.47213595499958)"
      ]
     },
     "execution_count": 21,
     "metadata": {},
     "output_type": "execute_result"
    }
   ],
   "source": [
    "np.sqrt((3-1)**2 + (2-4)**2), np.sqrt((3-5)**2 + (2-6)**2)"
   ]
  },
  {
   "cell_type": "markdown",
   "metadata": {},
   "source": [
    "Now, given a distance matrix, and true labels, we want to generate a `Mx3` tensor of valid triples `(i,j,k)` corresponding to the batch hard strategy."
   ]
  },
  {
   "cell_type": "code",
   "execution_count": 32,
   "metadata": {},
   "outputs": [],
   "source": [
    "def get_valid_triples(distance_matrix, labels):\n",
    "    \"\"\"Given an NxN distance matrix between and a N label array returns a tensor of length Mx3 with i,j,k being valid triples\n",
    "    such that for any i, (i,j) is the furthest apart positive example and (i,k) is the closest negative example.\n",
    "    \n",
    "    The sampling strategy ensures that every batch has at least K elements in one class and at least P diff. classes.\"\"\"\n",
    "    N = distance_matrix.shape[0]\n",
    "    \n",
    "    _, furthest_indices = torch.max(distance_matrix, dim=1, keepdim=True) #shape is Nx1 and furthest[i] = j if j is furthest from i\n",
    "    max_val = torch.max(distance_matrix) + 1\n",
    "    _, closest_indices = torch.min(distance_matrix + torch.diag(torch.ones(N) * max_val)) #we want to minimize d(i,j) for i=/=j\n",
    "    \n",
    "    "
   ]
  },
  {
   "cell_type": "code",
   "execution_count": 23,
   "metadata": {},
   "outputs": [
    {
     "data": {
      "text/plain": [
       "torch.return_types.max(\n",
       "values=tensor([2, 5]),\n",
       "indices=tensor([2, 2]))"
      ]
     },
     "execution_count": 23,
     "metadata": {},
     "output_type": "execute_result"
    }
   ],
   "source": [
    "torch.max(torch.arange(6).reshape((2,3)), dim=1)"
   ]
  },
  {
   "cell_type": "code",
   "execution_count": 27,
   "metadata": {},
   "outputs": [
    {
     "data": {
      "text/plain": [
       "tensor([[4., 0., 0.],\n",
       "        [0., 4., 0.],\n",
       "        [0., 0., 4.]])"
      ]
     },
     "execution_count": 27,
     "metadata": {},
     "output_type": "execute_result"
    }
   ],
   "source": [
    "torch.diag(torch.ones(3) * 4)"
   ]
  },
  {
   "cell_type": "code",
   "execution_count": 34,
   "metadata": {},
   "outputs": [],
   "source": [
    "import random\n",
    "def test_triplet_generator():\n",
    "    dist_matrix = torch.rand((5,5)) * 5\n",
    "    labels = torch.tensor(random.choices(range(5), k=5))\n",
    "    print(f\"the matrix is dist_matrix = {dist_matrix}, labels = {labels} \\n\\n\\n\\n\\n\" + \"*\"*50)\n",
    "    \n",
    "    print(get_valid_triples(dist_matrix, labels))\n",
    "       "
   ]
  },
  {
   "cell_type": "code",
   "execution_count": 35,
   "metadata": {},
   "outputs": [
    {
     "name": "stdout",
     "output_type": "stream",
     "text": [
      "the matrix is dist_matrix = tensor([[2.1554, 3.8405, 4.9992, 3.6540, 1.8460],\n",
      "        [4.5680, 3.2760, 4.7992, 2.3844, 4.5190],\n",
      "        [2.6432, 2.3703, 1.1153, 2.0088, 3.0268],\n",
      "        [4.9789, 2.1472, 0.0962, 2.6718, 0.7436],\n",
      "        [0.2879, 2.2944, 0.4205, 2.9724, 2.8840]]), labels = tensor([0, 1, 1, 4, 3]) \n",
      "\n",
      "\n",
      "\n",
      "\n",
      "**************************************************\n"
     ]
    },
    {
     "ename": "TypeError",
     "evalue": "iteration over a 0-d tensor",
     "output_type": "error",
     "traceback": [
      "\u001b[1;31m---------------------------------------------------------------------------\u001b[0m",
      "\u001b[1;31mTypeError\u001b[0m                                 Traceback (most recent call last)",
      "Cell \u001b[1;32mIn [35], line 1\u001b[0m\n\u001b[1;32m----> 1\u001b[0m test_triplet_generator()\n",
      "Cell \u001b[1;32mIn [34], line 7\u001b[0m, in \u001b[0;36mtest_triplet_generator\u001b[1;34m()\u001b[0m\n\u001b[0;32m      4\u001b[0m labels \u001b[39m=\u001b[39m torch\u001b[39m.\u001b[39mtensor(random\u001b[39m.\u001b[39mchoices(\u001b[39mrange\u001b[39m(\u001b[39m5\u001b[39m), k\u001b[39m=\u001b[39m\u001b[39m5\u001b[39m))\n\u001b[0;32m      5\u001b[0m \u001b[39mprint\u001b[39m(\u001b[39mf\u001b[39m\u001b[39m\"\u001b[39m\u001b[39mthe matrix is dist_matrix = \u001b[39m\u001b[39m{\u001b[39;00mdist_matrix\u001b[39m}\u001b[39;00m\u001b[39m, labels = \u001b[39m\u001b[39m{\u001b[39;00mlabels\u001b[39m}\u001b[39;00m\u001b[39m \u001b[39m\u001b[39m\\n\u001b[39;00m\u001b[39m\\n\u001b[39;00m\u001b[39m\\n\u001b[39;00m\u001b[39m\\n\u001b[39;00m\u001b[39m\\n\u001b[39;00m\u001b[39m\"\u001b[39m \u001b[39m+\u001b[39m \u001b[39m\"\u001b[39m\u001b[39m*\u001b[39m\u001b[39m\"\u001b[39m\u001b[39m*\u001b[39m\u001b[39m50\u001b[39m)\n\u001b[1;32m----> 7\u001b[0m \u001b[39mprint\u001b[39m(get_valid_triples(dist_matrix, labels))\n",
      "Cell \u001b[1;32mIn [32], line 10\u001b[0m, in \u001b[0;36mget_valid_triples\u001b[1;34m(distance_matrix, labels)\u001b[0m\n\u001b[0;32m      8\u001b[0m _, furthest_indices \u001b[39m=\u001b[39m torch\u001b[39m.\u001b[39mmax(distance_matrix, dim\u001b[39m=\u001b[39m\u001b[39m1\u001b[39m, keepdim\u001b[39m=\u001b[39m\u001b[39mTrue\u001b[39;00m) \u001b[39m#shape is Nx1 and furthest[i] = j if j is furthest from i\u001b[39;00m\n\u001b[0;32m      9\u001b[0m max_val \u001b[39m=\u001b[39m torch\u001b[39m.\u001b[39mmax(distance_matrix) \u001b[39m+\u001b[39m \u001b[39m1\u001b[39m\n\u001b[1;32m---> 10\u001b[0m _, closest_indices \u001b[39m=\u001b[39m torch\u001b[39m.\u001b[39mmin(distance_matrix \u001b[39m+\u001b[39m torch\u001b[39m.\u001b[39mdiag(torch\u001b[39m.\u001b[39mones(N) \u001b[39m*\u001b[39m max_val))\n",
      "File \u001b[1;32mc:\\Users\\Bhargavi\\.conda\\envs\\py39\\lib\\site-packages\\torch\\_tensor.py:723\u001b[0m, in \u001b[0;36mTensor.__iter__\u001b[1;34m(self)\u001b[0m\n\u001b[0;32m    713\u001b[0m \u001b[39mdef\u001b[39;00m \u001b[39m__iter__\u001b[39m(\u001b[39mself\u001b[39m):\n\u001b[0;32m    714\u001b[0m     \u001b[39m# NB: we use 'imap' and not 'map' here, so that in Python 2 we get a\u001b[39;00m\n\u001b[0;32m    715\u001b[0m     \u001b[39m# generator and don't eagerly perform all the indexes.  This could\u001b[39;00m\n\u001b[1;32m   (...)\u001b[0m\n\u001b[0;32m    720\u001b[0m     \u001b[39m# NB: We have intentionally skipped __torch_function__ dispatch here.\u001b[39;00m\n\u001b[0;32m    721\u001b[0m     \u001b[39m# See gh-54457\u001b[39;00m\n\u001b[0;32m    722\u001b[0m     \u001b[39mif\u001b[39;00m \u001b[39mself\u001b[39m\u001b[39m.\u001b[39mdim() \u001b[39m==\u001b[39m \u001b[39m0\u001b[39m:\n\u001b[1;32m--> 723\u001b[0m         \u001b[39mraise\u001b[39;00m \u001b[39mTypeError\u001b[39;00m(\u001b[39m'\u001b[39m\u001b[39miteration over a 0-d tensor\u001b[39m\u001b[39m'\u001b[39m)\n\u001b[0;32m    724\u001b[0m     \u001b[39mif\u001b[39;00m torch\u001b[39m.\u001b[39m_C\u001b[39m.\u001b[39m_get_tracing_state():\n\u001b[0;32m    725\u001b[0m         warnings\u001b[39m.\u001b[39mwarn(\u001b[39m'\u001b[39m\u001b[39mIterating over a tensor might cause the trace to be incorrect. \u001b[39m\u001b[39m'\u001b[39m\n\u001b[0;32m    726\u001b[0m                       \u001b[39m'\u001b[39m\u001b[39mPassing a tensor of different shape won\u001b[39m\u001b[39m\\'\u001b[39;00m\u001b[39mt change the number of \u001b[39m\u001b[39m'\u001b[39m\n\u001b[0;32m    727\u001b[0m                       \u001b[39m'\u001b[39m\u001b[39miterations executed (and might lead to errors or silently give \u001b[39m\u001b[39m'\u001b[39m\n\u001b[0;32m    728\u001b[0m                       \u001b[39m'\u001b[39m\u001b[39mincorrect results).\u001b[39m\u001b[39m'\u001b[39m, category\u001b[39m=\u001b[39mtorch\u001b[39m.\u001b[39mjit\u001b[39m.\u001b[39mTracerWarning, stacklevel\u001b[39m=\u001b[39m\u001b[39m2\u001b[39m)\n",
      "\u001b[1;31mTypeError\u001b[0m: iteration over a 0-d tensor"
     ]
    }
   ],
   "source": [
    "test_triplet_generator()"
   ]
  },
  {
   "cell_type": "code",
   "execution_count": null,
   "metadata": {},
   "outputs": [],
   "source": []
  }
 ],
 "metadata": {
  "kernelspec": {
   "display_name": "Python 3.9.15 ('py39')",
   "language": "python",
   "name": "python3"
  },
  "language_info": {
   "codemirror_mode": {
    "name": "ipython",
    "version": 3
   },
   "file_extension": ".py",
   "mimetype": "text/x-python",
   "name": "python",
   "nbconvert_exporter": "python",
   "pygments_lexer": "ipython3",
   "version": "3.9.15"
  },
  "orig_nbformat": 4,
  "vscode": {
   "interpreter": {
    "hash": "4b1899c2cfeb0a97bb7f796d16f358d950e5c18ee1c44c1d930b588549039f22"
   }
  }
 },
 "nbformat": 4,
 "nbformat_minor": 2
}

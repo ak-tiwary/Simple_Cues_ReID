{
 "cells": [
  {
   "cell_type": "code",
   "execution_count": 1,
   "metadata": {},
   "outputs": [],
   "source": [
    "import numpy as np\n",
    "import matplotlib.pyplot as plt\n",
    "\n",
    "import torch\n",
    "import torchvision\n",
    "import torch.nn as nn\n",
    "import torch.nn.functional as F\n",
    "import torchvision.transforms as T\n",
    "\n",
    "import os\n",
    "import random\n",
    "from collections import defaultdict\n",
    "from PIL import Image\n",
    "from torch.utils.data import DataLoader, Dataset\n"
   ]
  },
  {
   "cell_type": "markdown",
   "metadata": {},
   "source": [
    "The goal is to import resnet 50, change all the Batchnorm layers so that they run using batch statistics even during inference time following the \"Simple Cues lead to a Strong Object Tracker\" (2022) paper, and update the fully connected layer with the BNNeck from the \"Bag of Tricks and a Strong Baseline for Person ReID\" paper"
   ]
  },
  {
   "cell_type": "code",
   "execution_count": 8,
   "metadata": {},
   "outputs": [],
   "source": [
    "resnet50 = torchvision.models.resnet50(weights=\"DEFAULT\")"
   ]
  },
  {
   "cell_type": "code",
   "execution_count": 9,
   "metadata": {},
   "outputs": [
    {
     "data": {
      "text/plain": [
       "2048"
      ]
     },
     "execution_count": 9,
     "metadata": {},
     "output_type": "execute_result"
    }
   ],
   "source": [
    "resnet50.fc.in_features"
   ]
  },
  {
   "cell_type": "code",
   "execution_count": 3,
   "metadata": {},
   "outputs": [],
   "source": [
    "for i, layer in enumerate(resnet50.modules()):\n",
    "    if isinstance(layer, nn.BatchNorm2d):\n",
    "        #use batch stats during inference\n",
    "        layer.track_running_stats = False "
   ]
  },
  {
   "cell_type": "code",
   "execution_count": 5,
   "metadata": {},
   "outputs": [
    {
     "data": {
      "text/plain": [
       "False"
      ]
     },
     "execution_count": 5,
     "metadata": {},
     "output_type": "execute_result"
    }
   ],
   "source": [
    "batch_norms = [x for x in resnet50.modules() \n",
    "               if isinstance(x, nn.BatchNorm2d)]\n",
    "\n",
    "#since max is false, all are false\n",
    "max([x.track_running_stats for x in batch_norms])"
   ]
  },
  {
   "cell_type": "code",
   "execution_count": 6,
   "metadata": {},
   "outputs": [
    {
     "data": {
      "text/plain": [
       "True"
      ]
     },
     "execution_count": 6,
     "metadata": {},
     "output_type": "execute_result"
    }
   ],
   "source": [
    "max([True, False])"
   ]
  },
  {
   "cell_type": "markdown",
   "metadata": {},
   "source": [
    "We will replace the fc layer with identity first, since we want the features."
   ]
  },
  {
   "cell_type": "code",
   "execution_count": 7,
   "metadata": {},
   "outputs": [],
   "source": [
    "class Identity(nn.Module):\n",
    "    def __init__(self):\n",
    "        super(Identity, self).__init__()\n",
    "        \n",
    "    def forward(self, x):\n",
    "        return x\n"
   ]
  },
  {
   "cell_type": "code",
   "execution_count": null,
   "metadata": {},
   "outputs": [],
   "source": [
    "resnet50.fc = Identity()"
   ]
  },
  {
   "cell_type": "code",
   "execution_count": null,
   "metadata": {},
   "outputs": [],
   "source": [
    "def get_backbone():\n",
    "    \"\"\"Can be modified to change backbone.\"\"\"\n",
    "    resnet50 = torchvision.models.resnet50(weights=\"DEFAULT\")\n",
    "    \n",
    "    for i, layer in enumerate(resnet50.modules()):\n",
    "        if isinstance(layer, nn.BatchNorm2d):\n",
    "            #use batch stats during inference\n",
    "            layer.track_running_stats = False \n",
    "            \n",
    "    #dummy variable to transport info\n",
    "    resnet50._infeatures_temp = resnet50.fc.in_features\n",
    "    #discard fc layer\n",
    "    resnet50.fc = Identity()\n",
    "    \n",
    "    return resnet50\n",
    "    "
   ]
  },
  {
   "cell_type": "code",
   "execution_count": 10,
   "metadata": {},
   "outputs": [
    {
     "data": {
      "text/plain": [
       "False"
      ]
     },
     "execution_count": 10,
     "metadata": {},
     "output_type": "execute_result"
    }
   ],
   "source": [
    "resnet50.eval()\n",
    "\n",
    "resnet50.training"
   ]
  },
  {
   "cell_type": "code",
   "execution_count": null,
   "metadata": {},
   "outputs": [],
   "source": [
    "class Net(nn.Module):\n",
    "    \"\"\"The full Siamese network with BNNeck.\"\"\"\n",
    "    def __init__(self, num_classes, backbone=get_backbone()):\n",
    "        \"\"\"num_classes is the number of identities being classified.\"\"\"\n",
    "        #gives features, used to calculate triplet and center loss\n",
    "        self.backbone = backbone \n",
    "        \n",
    "        in_features = backbone._infeatures_temp\n",
    "        \n",
    "        #output of this is used during inference\n",
    "        self.batch_norm = nn.BatchNorm2d(num_features=in_features,\n",
    "                                         track_running_stats=False)\n",
    "        \n",
    "        self.fc = nn.Linear(in_features=in_features, \n",
    "                            out_features=num_classes,\n",
    "                            bias=False)\n",
    "        \n",
    "    def forward(self, x):\n",
    "        \"\"\"During test time returns features and output of fc layers.\n",
    "        During inference time returns output after batch normalization.\"\"\"\n",
    "        \n",
    "        features = self.backbone(x)\n",
    "        \n",
    "        if self.training:\n",
    "            class_probs = self.fc(self.batch_norm(features))\n",
    "            return class_probs, features \n",
    "        else: #inference mode\n",
    "            return self.batch_norm(features)"
   ]
  }
 ],
 "metadata": {
  "kernelspec": {
   "display_name": "Python 3.10.5 ('vision')",
   "language": "python",
   "name": "python3"
  },
  "language_info": {
   "codemirror_mode": {
    "name": "ipython",
    "version": 3
   },
   "file_extension": ".py",
   "mimetype": "text/x-python",
   "name": "python",
   "nbconvert_exporter": "python",
   "pygments_lexer": "ipython3",
   "version": "3.10.5"
  },
  "orig_nbformat": 4,
  "vscode": {
   "interpreter": {
    "hash": "2e493a1a15d7e27fb4e49f83da841848447539036e41bf31e3db46ef82884d8e"
   }
  }
 },
 "nbformat": 4,
 "nbformat_minor": 2
}
